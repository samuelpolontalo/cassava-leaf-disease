{
  "nbformat": 4,
  "nbformat_minor": 0,
  "metadata": {
    "colab": {
      "name": "build-model",
      "private_outputs": true,
      "provenance": []
    },
    "kernelspec": {
      "name": "python3",
      "display_name": "Python 3"
    }
  },
  "cells": [
    {
      "cell_type": "markdown",
      "metadata": {
        "id": "WH1NhE551Cds"
      },
      "source": [
        "# CASSAVA LEAF DISEASE CLASSIFICATION\n",
        "\n",
        "As the second-largest provider of carbohydrates in Africa, cassava is a key food security crop grown by smallholder farmers because it can withstand harsh conditions. At least 80% of household farms in Sub-Saharan Africa grow this starchy root, but viral diseases are major sources of poor yields. With the help of data science, it may be possible to identify common diseases so they can be treated.\n",
        "\n",
        "source: https://www.kaggle.com/c/cassava-leaf-disease-classification/overview"
      ]
    },
    {
      "cell_type": "markdown",
      "metadata": {
        "id": "FSfh4ceT1jgv"
      },
      "source": [
        "## Data Preparation"
      ]
    },
    {
      "cell_type": "markdown",
      "metadata": {
        "id": "FDPBGUMM2fSE"
      },
      "source": [
        "### stream data using API\n",
        "Before we can import data from Kaggle to google.colab, we need to download the API token by Login to Kaggle > My Account > Home > Create New API Token. The API token wil be downloaded in the format of kaggle.json, then we need to upload it to goole colab hosted runtime."
      ]
    },
    {
      "cell_type": "code",
      "metadata": {
        "id": "DrC5zK7u0kOm"
      },
      "source": [
        "# upload your 'kaggle.json' to hosted runtime\n",
        "from google.colab import files\n",
        "files.upload()"
      ],
      "execution_count": null,
      "outputs": []
    },
    {
      "cell_type": "markdown",
      "metadata": {
        "id": "TxPWnLqL2rWR"
      },
      "source": [
        "we need to do several adjustment such as installing kaggle library using pip and so on, until we adjust the access permisions"
      ]
    },
    {
      "cell_type": "code",
      "metadata": {
        "id": "z5xWyzeZ2pL9"
      },
      "source": [
        "# Install kaggle library \n",
        "!pip install kaggle\n",
        "# Make \".kaggle\" directory in root directory\n",
        "!mkdir -p ~/.kaggle\n",
        "# Copy the API token to the kaggle directory\n",
        "!cp kaggle.json ~/.kaggle/\n",
        "# Check the directory\n",
        "!ls ~/.kaggle\n",
        "# Adjust access permissions\n",
        "!chmod 600 /root/.kaggle/kaggle.json"
      ],
      "execution_count": null,
      "outputs": []
    },
    {
      "cell_type": "markdown",
      "metadata": {
        "id": "2IXx6-H729FA"
      },
      "source": [
        "The cell bellow contains the command to download the data into your hosted directory (google server). Basicly you just migrated the whole dataset from kaggle's server into google's server.\n",
        "\n",
        "**Specificly For competition** open your kaggle.json and change kaggle user name and key accordingly"
      ]
    },
    {
      "cell_type": "code",
      "metadata": {
        "id": "M36VfVwG6pSV"
      },
      "source": [
        "import os\n",
        "os.environ[\"KAGGLE_USERNAME\"] = 'reizkianyesaya'\n",
        "os.environ[\"KAGGLE_KEY\"] = '6a4497d58e4c2ee13884a96742e897c9'\n",
        "datadir = \"data\"\n",
        "!kaggle competitions download -c cassava-leaf-disease-classification -p {datadir}"
      ],
      "execution_count": null,
      "outputs": []
    },
    {
      "cell_type": "code",
      "metadata": {
        "id": "qzmTH7ut8ivE"
      },
      "source": [
        "# check the folders inside your directory\n",
        "!ls\n",
        "# check what is inside data folder\n",
        "!ls data"
      ],
      "execution_count": null,
      "outputs": []
    },
    {
      "cell_type": "code",
      "metadata": {
        "id": "JI988otw_lqk"
      },
      "source": [
        "# unzip the data\n",
        "!apt-get install -y fuse-zip\n",
        "!mkdir {\"extracted-data\"}\n",
        "!fuse-zip data/cassava-leaf-disease-classification.zip extracted-data"
      ],
      "execution_count": null,
      "outputs": []
    },
    {
      "cell_type": "code",
      "metadata": {
        "id": "UcceQMJ-BKM3"
      },
      "source": [
        "!ls extracted-data"
      ],
      "execution_count": null,
      "outputs": []
    },
    {
      "cell_type": "markdown",
      "metadata": {
        "id": "v3fs_kldDXTF"
      },
      "source": [
        "data has been extracted in the folder \"extracted-data\""
      ]
    },
    {
      "cell_type": "code",
      "metadata": {
        "id": "FqBu_-d0EDvU"
      },
      "source": [
        "os.listdir()"
      ],
      "execution_count": null,
      "outputs": []
    },
    {
      "cell_type": "markdown",
      "metadata": {
        "id": "ytdAceXxDiGB"
      },
      "source": [
        "### preview data"
      ]
    },
    {
      "cell_type": "code",
      "metadata": {
        "id": "ebMsC8eNDuBO"
      },
      "source": [
        "import os\n",
        "os.listdir('extracted-data/train_images')\n",
        "# wtf langsung data mentah"
      ],
      "execution_count": null,
      "outputs": []
    }
  ]
}