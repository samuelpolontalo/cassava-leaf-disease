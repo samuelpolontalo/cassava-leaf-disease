{
  "nbformat": 4,
  "nbformat_minor": 0,
  "metadata": {
    "colab": {
      "name": "build-model",
      "provenance": []
    },
    "kernelspec": {
      "name": "python3",
      "display_name": "Python 3"
    }
  },
  "cells": [
    {
      "cell_type": "markdown",
      "metadata": {
        "id": "WH1NhE551Cds"
      },
      "source": [
        "# CASSAVA LEAF DISEASE CLASSIFICATION\n",
        "\n",
        "As the second-largest provider of carbohydrates in Africa, cassava is a key food security crop grown by smallholder farmers because it can withstand harsh conditions. At least 80% of household farms in Sub-Saharan Africa grow this starchy root, but viral diseases are major sources of poor yields. With the help of data science, it may be possible to identify common diseases so they can be treated.\n",
        "\n",
        "source: https://www.kaggle.com/c/cassava-leaf-disease-classification/overview"
      ]
    },
    {
      "cell_type": "markdown",
      "metadata": {
        "id": "FSfh4ceT1jgv"
      },
      "source": [
        "## Data Preparation"
      ]
    },
    {
      "cell_type": "markdown",
      "metadata": {
        "id": "FDPBGUMM2fSE"
      },
      "source": [
        "### stream data using API\n",
        "Before we can import data from Kaggle to google.colab, we need to download the API token by Login to Kaggle > My Account > Home > Create New API Token. The API token wil be downloaded in the format of kaggle.json, then we need to upload it to goole colab hosted runtime."
      ]
    },
    {
      "cell_type": "code",
      "metadata": {
        "id": "DrC5zK7u0kOm"
      },
      "source": [
        "# upload your 'kaggle.json' to hosted runtime\n",
        "from google.colab import files\n",
        "files.upload()"
      ],
      "execution_count": null,
      "outputs": []
    },
    {
      "cell_type": "markdown",
      "metadata": {
        "id": "TxPWnLqL2rWR"
      },
      "source": [
        "we need to do several adjustment such as installing kaggle library using pip and so on, until we adjust the access permisions"
      ]
    },
    {
      "cell_type": "code",
      "metadata": {
        "id": "z5xWyzeZ2pL9"
      },
      "source": [
        "# Install kaggle library \n",
        "!pip install -q kaggle\n",
        "# Make \".kaggle\" directory in root directory\n",
        "!mkdir -p ~/.kaggle\n",
        "# Copy the API token to the kaggle directory\n",
        "!cp kaggle.json ~/.kaggle/\n",
        "# Check the directory\n",
        "!ls ~/.kaggle\n",
        "# Adjust access permissions\n",
        "!chmod 600 /root/.kaggle/kaggle.json\n",
        "\n",
        "# WTF reinstall kaggle\n",
        "!pip uninstall -y kaggle\n",
        "!pip install kaggle"
      ],
      "execution_count": null,
      "outputs": []
    },
    {
      "cell_type": "markdown",
      "metadata": {
        "id": "2IXx6-H729FA"
      },
      "source": [
        "The cell bellow contains the command to download the data into your hosted directory (google server). Basicly you just migrated the whole dataset from kaggle's server into google's server.\n",
        "\n",
        "**Specificly For competition** open your kaggle.json and change kaggle user name and key accordingly"
      ]
    },
    {
      "cell_type": "code",
      "metadata": {
        "id": "M36VfVwG6pSV"
      },
      "source": [
        "import os\n",
        "\n",
        "# authentication \n",
        "# os.environ[\"KAGGLE_USERNAME\"] = 'reizkianyesaya'\n",
        "# os.environ[\"KAGGLE_KEY\"] = '92844990e0f3c2306230314f99e0e015'\n",
        "\n",
        "# migrate data from kaggle to google\n",
        "!mkdir downloaded-data\n",
        "!kaggle competitions download -c cassava-leaf-disease-classification -p downloaded-data"
      ],
      "execution_count": null,
      "outputs": []
    },
    {
      "cell_type": "code",
      "metadata": {
        "id": "qzmTH7ut8ivE"
      },
      "source": [
        "# check the folders inside your directory\n",
        "!ls\n",
        "# check what is inside data folder\n",
        "!ls downloaded-data"
      ],
      "execution_count": null,
      "outputs": []
    },
    {
      "cell_type": "code",
      "metadata": {
        "id": "JI988otw_lqk"
      },
      "source": [
        "# unzip the data\n",
        "!apt-get install -y fuse-zip\n",
        "!mkdir {\"extracted-data\"}\n",
        "!fuse-zip downloaded-data/cassava-leaf-disease-classification.zip extracted-data"
      ],
      "execution_count": null,
      "outputs": []
    },
    {
      "cell_type": "code",
      "metadata": {
        "id": "UcceQMJ-BKM3"
      },
      "source": [
        "!ls extracted-data"
      ],
      "execution_count": null,
      "outputs": []
    },
    {
      "cell_type": "markdown",
      "metadata": {
        "id": "v3fs_kldDXTF"
      },
      "source": [
        "data has been extracted in the folder \"extracted-data\""
      ]
    },
    {
      "cell_type": "code",
      "metadata": {
        "id": "zST4EyhINOuK"
      },
      "source": [
        "os.listdir(\"extracted-data\")"
      ],
      "execution_count": null,
      "outputs": []
    },
    {
      "cell_type": "markdown",
      "metadata": {
        "id": "f980Kw4DKdd6"
      },
      "source": [
        "### data cleaning\n",
        "The train data inside 'extracted-data/train_images' are scattered. They are not organized in specific folders for each different classes. Although, the label for each specific images can be obtained by refering to the table in **'extracted-data/train.csv'**. **To do:** we need to separate each images according to their class"
      ]
    },
    {
      "cell_type": "code",
      "metadata": {
        "id": "tpmdFQXxMNEr"
      },
      "source": [
        "# reading the train.csv as reference label\n",
        "import pandas as pd\n",
        "import json\n",
        "\n",
        "BASE_DIR = \"extracted-data\"\n",
        "\n",
        "# read disease classes name in json file\n",
        "with open(os.path.join(BASE_DIR, \"label_num_to_disease_map.json\")) as file:\n",
        "    map_classes = json.loads(file.read())\n",
        "print(json.dumps(map_classes, indent=4))\n",
        "\n",
        "# implement classesname in train_csv\n",
        "train_csv = pd.read_csv(os.path.join(BASE_DIR, \"train.csv\"))\n",
        "train_csv[\"class_name\"] = train_csv[\"label\"].astype(str).map(map_classes)"
      ],
      "execution_count": null,
      "outputs": []
    },
    {
      "cell_type": "code",
      "metadata": {
        "id": "NoY1ToJ3OCmu"
      },
      "source": [
        "train_csv"
      ],
      "execution_count": null,
      "outputs": []
    },
    {
      "cell_type": "code",
      "metadata": {
        "id": "Fn7nS9zqPT16"
      },
      "source": [
        "# extract image_id and label_id to list\n",
        "image_id = train_csv[\"image_id\"].tolist()\n",
        "label_id = train_csv[\"label\"].tolist()"
      ],
      "execution_count": null,
      "outputs": []
    },
    {
      "cell_type": "code",
      "metadata": {
        "id": "XzS3h0EoRgq1"
      },
      "source": [
        "# Create directory for specific class\n",
        "# allert! run this code once (bellow are LINUX command line to run on google server)\n",
        "!mkdir extracted-data/train_images/CBB\n",
        "!mkdir extracted-data/train_images/CBSD\n",
        "!mkdir extracted-data/train_images/CGM\n",
        "!mkdir extracted-data/train_images/CMD\n",
        "!mkdir extracted-data/train_images/Healthy"
      ],
      "execution_count": null,
      "outputs": []
    },
    {
      "cell_type": "code",
      "metadata": {
        "id": "560djZY6XGMZ"
      },
      "source": [
        "# check if the folders were created in 'extracted-data/train_images' directory\n",
        "!ls extracted-data/train_images"
      ],
      "execution_count": null,
      "outputs": []
    },
    {
      "cell_type": "code",
      "metadata": {
        "id": "XaW0-7NkSHye"
      },
      "source": [
        "# Iterate to move the unorganized images in train_images directory to specific class folders\n",
        "import shutil\n",
        "\n",
        "# create folders for specific classes\n",
        "TRAIN_DIR = os.path.join(BASE_DIR,\"train_images\")\n",
        "TRAIN_DIR_CBB = os.path.join(TRAIN_DIR,\"CBB\")\n",
        "TRAIN_DIR_CBSD = os.path.join(TRAIN_DIR,\"CBSD\")\n",
        "TRAIN_DIR_CGM = os.path.join(TRAIN_DIR,\"CGM\")\n",
        "TRAIN_DIR_CMD = os.path.join(TRAIN_DIR,\"CMD\")\n",
        "TRAIN_DIR_Healthy = os.path.join(TRAIN_DIR,\"Healthy\")\n",
        "\n",
        "# move the images file to specific folder by IF CONDITION\n",
        "for ImageFileName,ImageLabel in zip(image_id,label_id):\n",
        "  if ImageLabel == 0:\n",
        "    shutil.move(os.path.join(TRAIN_DIR,ImageFileName), os.path.join(TRAIN_DIR_CBB,ImageFileName))\n",
        "  if ImageLabel == 1:\n",
        "    shutil.move(os.path.join(TRAIN_DIR,ImageFileName), os.path.join(TRAIN_DIR_CBSD,ImageFileName))\n",
        "  if ImageLabel == 2:\n",
        "    shutil.move(os.path.join(TRAIN_DIR,ImageFileName), os.path.join(TRAIN_DIR_CGM,ImageFileName))\n",
        "  if ImageLabel == 3:\n",
        "    shutil.move(os.path.join(TRAIN_DIR,ImageFileName), os.path.join(TRAIN_DIR_CMD,ImageFileName))\n",
        "  if ImageLabel == 4:\n",
        "    shutil.move(os.path.join(TRAIN_DIR,ImageFileName), os.path.join(TRAIN_DIR_Healthy,ImageFileName))"
      ],
      "execution_count": null,
      "outputs": []
    },
    {
      "cell_type": "code",
      "metadata": {
        "id": "tRIfCQpxU1AO"
      },
      "source": [
        "# check if the 'extracted-data/train_images' only contain CLASSES FOLDER\n",
        "!ls extracted-data/train_images"
      ],
      "execution_count": null,
      "outputs": []
    }
  ]
}