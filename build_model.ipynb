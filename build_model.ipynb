{
  "nbformat": 4,
  "nbformat_minor": 0,
  "metadata": {
    "colab": {
      "name": "build-model",
      "provenance": [],
      "collapsed_sections": [],
      "toc_visible": true
    },
    "kernelspec": {
      "name": "python3",
      "display_name": "Python 3"
    }
  },
  "cells": [
    {
      "cell_type": "markdown",
      "metadata": {
        "id": "WH1NhE551Cds"
      },
      "source": [
        "# CASSAVA LEAF DISEASE CLASSIFICATION\n",
        "\n",
        "As the second-largest provider of carbohydrates in Africa, cassava is a key food security crop grown by smallholder farmers because it can withstand harsh conditions. At least 80% of household farms in Sub-Saharan Africa grow this starchy root, but viral diseases are major sources of poor yields. With the help of data science, it may be possible to identify common diseases so they can be treated.\n",
        "\n",
        "source: https://www.kaggle.com/c/cassava-leaf-disease-classification/overview"
      ]
    },
    {
      "cell_type": "markdown",
      "metadata": {
        "id": "FSfh4ceT1jgv"
      },
      "source": [
        "## Data Preparation"
      ]
    },
    {
      "cell_type": "markdown",
      "metadata": {
        "id": "FDPBGUMM2fSE"
      },
      "source": [
        "### stream data using API\n",
        "Before we can import data from Kaggle to google.colab, we need to download the API token by Login to Kaggle > My Account > Home > Create New API Token. The API token wil be downloaded in the format of kaggle.json, then we need to upload it to goole colab hosted runtime."
      ]
    },
    {
      "cell_type": "code",
      "metadata": {
        "id": "DrC5zK7u0kOm",
        "colab": {
          "resources": {
            "http://localhost:8080/nbextensions/google.colab/files.js": {
              "data": "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",
              "ok": true,
              "headers": [
                [
                  "content-type",
                  "application/javascript"
                ]
              ],
              "status": 200,
              "status_text": ""
            }
          },
          "base_uri": "https://localhost:8080/",
          "height": 89
        },
        "outputId": "a409ab15-6789-4f7a-ed32-b390dce3e6c2"
      },
      "source": [
        "# upload your 'kaggle.json' to hosted runtime\n",
        "from google.colab import files\n",
        "files.upload()"
      ],
      "execution_count": 1,
      "outputs": [
        {
          "output_type": "display_data",
          "data": {
            "text/html": [
              "\n",
              "     <input type=\"file\" id=\"files-20f79ef4-2b39-4f1b-ada1-1946d3a70761\" name=\"files[]\" multiple disabled\n",
              "        style=\"border:none\" />\n",
              "     <output id=\"result-20f79ef4-2b39-4f1b-ada1-1946d3a70761\">\n",
              "      Upload widget is only available when the cell has been executed in the\n",
              "      current browser session. Please rerun this cell to enable.\n",
              "      </output>\n",
              "      <script src=\"/nbextensions/google.colab/files.js\"></script> "
            ],
            "text/plain": [
              "<IPython.core.display.HTML object>"
            ]
          },
          "metadata": {
            "tags": []
          }
        },
        {
          "output_type": "stream",
          "text": [
            "Saving kaggle.json to kaggle.json\n"
          ],
          "name": "stdout"
        },
        {
          "output_type": "execute_result",
          "data": {
            "text/plain": [
              "{'kaggle.json': b'{\"username\":\"samuelpolontalo\",\"key\":\"823c8a6c6a0318cba4c48dcbbdc294ea\"}'}"
            ]
          },
          "metadata": {
            "tags": []
          },
          "execution_count": 1
        }
      ]
    },
    {
      "cell_type": "markdown",
      "metadata": {
        "id": "TxPWnLqL2rWR"
      },
      "source": [
        "we need to do several adjustment such as installing kaggle library using pip and so on, until we adjust the access permisions"
      ]
    },
    {
      "cell_type": "code",
      "metadata": {
        "id": "z5xWyzeZ2pL9",
        "colab": {
          "base_uri": "https://localhost:8080/"
        },
        "outputId": "8f631f09-bb9e-4a32-8a66-f8c3b59ebda8"
      },
      "source": [
        "# Install kaggle library \n",
        "!pip install -q kaggle\n",
        "# Make \".kaggle\" directory in root directory\n",
        "!mkdir -p ~/.kaggle\n",
        "# Copy the API token to the kaggle directory\n",
        "!cp kaggle.json ~/.kaggle/\n",
        "# Check the directory\n",
        "!ls ~/.kaggle\n",
        "# Adjust access permissions\n",
        "!chmod 600 /root/.kaggle/kaggle.json\n",
        "\n",
        "# WTF reinstall kaggle\n",
        "!pip uninstall -y kaggle\n",
        "!pip install kaggle"
      ],
      "execution_count": 2,
      "outputs": [
        {
          "output_type": "stream",
          "text": [
            "kaggle.json\n",
            "Uninstalling kaggle-1.5.9:\n",
            "  Successfully uninstalled kaggle-1.5.9\n",
            "Collecting kaggle\n",
            "\u001b[?25l  Downloading https://files.pythonhosted.org/packages/fe/52/3d13208c0f24c72b886c400e94748076222d5ffa4913fb410af50cb09219/kaggle-1.5.9.tar.gz (58kB)\n",
            "\u001b[K     |████████████████████████████████| 61kB 3.2MB/s \n",
            "\u001b[?25hRequirement already satisfied: six>=1.10 in /usr/local/lib/python3.6/dist-packages (from kaggle) (1.15.0)\n",
            "Requirement already satisfied: certifi in /usr/local/lib/python3.6/dist-packages (from kaggle) (2020.11.8)\n",
            "Requirement already satisfied: python-dateutil in /usr/local/lib/python3.6/dist-packages (from kaggle) (2.8.1)\n",
            "Requirement already satisfied: requests in /usr/local/lib/python3.6/dist-packages (from kaggle) (2.23.0)\n",
            "Requirement already satisfied: tqdm in /usr/local/lib/python3.6/dist-packages (from kaggle) (4.41.1)\n",
            "Requirement already satisfied: python-slugify in /usr/local/lib/python3.6/dist-packages (from kaggle) (4.0.1)\n",
            "Requirement already satisfied: slugify in /usr/local/lib/python3.6/dist-packages (from kaggle) (0.0.1)\n",
            "Requirement already satisfied: urllib3 in /usr/local/lib/python3.6/dist-packages (from kaggle) (1.24.3)\n",
            "Requirement already satisfied: chardet<4,>=3.0.2 in /usr/local/lib/python3.6/dist-packages (from requests->kaggle) (3.0.4)\n",
            "Requirement already satisfied: idna<3,>=2.5 in /usr/local/lib/python3.6/dist-packages (from requests->kaggle) (2.10)\n",
            "Requirement already satisfied: text-unidecode>=1.3 in /usr/local/lib/python3.6/dist-packages (from python-slugify->kaggle) (1.3)\n",
            "Building wheels for collected packages: kaggle\n",
            "  Building wheel for kaggle (setup.py) ... \u001b[?25l\u001b[?25hdone\n",
            "  Created wheel for kaggle: filename=kaggle-1.5.9-cp36-none-any.whl size=73265 sha256=fd36aee7201b39f15fa70c39071eca4ac3c9cc2a41d264a2350dfcee74a74669\n",
            "  Stored in directory: /root/.cache/pip/wheels/68/6d/9b/7a98271454edcba3b56328cbc78c037286e787d004c8afee71\n",
            "Successfully built kaggle\n",
            "Installing collected packages: kaggle\n",
            "Successfully installed kaggle-1.5.9\n"
          ],
          "name": "stdout"
        }
      ]
    },
    {
      "cell_type": "markdown",
      "metadata": {
        "id": "2IXx6-H729FA"
      },
      "source": [
        "The cell bellow contains the command to download the data into your hosted directory (google server). Basicly you just migrated the whole dataset from kaggle's server into google's server.\n",
        "\n",
        "**Specificly For competition** open your kaggle.json and change kaggle user name and key accordingly"
      ]
    },
    {
      "cell_type": "code",
      "metadata": {
        "id": "M36VfVwG6pSV",
        "colab": {
          "base_uri": "https://localhost:8080/"
        },
        "outputId": "15103b94-1dbd-465e-de05-72ffe5970383"
      },
      "source": [
        "import os\n",
        "\n",
        "# authentication \n",
        "# os.environ[\"KAGGLE_USERNAME\"] = 'reizkianyesaya'\n",
        "# os.environ[\"KAGGLE_KEY\"] = '92844990e0f3c2306230314f99e0e015'\n",
        "os.environ[\"KAGGLE_USERNAME\"] = 'samuelpolontalo'\n",
        "os.environ[\"KAGGLE_KEY\"] = '823c8a6c6a0318cba4c48dcbbdc294ea'\n",
        "\n",
        "# migrate data from kaggle to google\n",
        "!mkdir downloaded-data\n",
        "!kaggle competitions download -c cassava-leaf-disease-classification -p downloaded-data"
      ],
      "execution_count": 3,
      "outputs": [
        {
          "output_type": "stream",
          "text": [
            "Downloading cassava-leaf-disease-classification.zip to downloaded-data\n",
            "100% 5.76G/5.76G [01:21<00:00, 96.7MB/s]\n",
            "100% 5.76G/5.76G [01:21<00:00, 75.6MB/s]\n"
          ],
          "name": "stdout"
        }
      ]
    },
    {
      "cell_type": "code",
      "metadata": {
        "id": "qzmTH7ut8ivE",
        "colab": {
          "base_uri": "https://localhost:8080/"
        },
        "outputId": "95cda284-de99-4d07-f1e2-8c85e7cde345"
      },
      "source": [
        "# check the folders inside your directory\n",
        "!ls\n",
        "# check what is inside data folder\n",
        "!ls downloaded-data"
      ],
      "execution_count": 4,
      "outputs": [
        {
          "output_type": "stream",
          "text": [
            "downloaded-data  kaggle.json  sample_data\n",
            "cassava-leaf-disease-classification.zip\n"
          ],
          "name": "stdout"
        }
      ]
    },
    {
      "cell_type": "code",
      "metadata": {
        "id": "JI988otw_lqk",
        "colab": {
          "base_uri": "https://localhost:8080/"
        },
        "outputId": "248d5fda-dd17-4f49-fbc8-844ae7bd69de"
      },
      "source": [
        "# unzip the data\n",
        "!apt-get install -y fuse-zip\n",
        "!mkdir {\"extracted-data\"}\n",
        "!fuse-zip downloaded-data/cassava-leaf-disease-classification.zip extracted-data"
      ],
      "execution_count": 5,
      "outputs": [
        {
          "output_type": "stream",
          "text": [
            "Reading package lists... Done\n",
            "Building dependency tree       \n",
            "Reading state information... Done\n",
            "The following additional packages will be installed:\n",
            "  libzip4\n",
            "The following NEW packages will be installed:\n",
            "  fuse-zip libzip4\n",
            "0 upgraded, 2 newly installed, 0 to remove and 14 not upgraded.\n",
            "Need to get 65.6 kB of archives.\n",
            "After this operation, 178 kB of additional disk space will be used.\n",
            "Get:1 http://archive.ubuntu.com/ubuntu bionic/universe amd64 libzip4 amd64 1.1.2-1.1 [37.8 kB]\n",
            "Get:2 http://archive.ubuntu.com/ubuntu bionic/universe amd64 fuse-zip amd64 0.4.4-1 [27.9 kB]\n",
            "Fetched 65.6 kB in 0s (184 kB/s)\n",
            "Selecting previously unselected package libzip4:amd64.\n",
            "(Reading database ... 144793 files and directories currently installed.)\n",
            "Preparing to unpack .../libzip4_1.1.2-1.1_amd64.deb ...\n",
            "Unpacking libzip4:amd64 (1.1.2-1.1) ...\n",
            "Selecting previously unselected package fuse-zip.\n",
            "Preparing to unpack .../fuse-zip_0.4.4-1_amd64.deb ...\n",
            "Unpacking fuse-zip (0.4.4-1) ...\n",
            "Setting up libzip4:amd64 (1.1.2-1.1) ...\n",
            "Setting up fuse-zip (0.4.4-1) ...\n",
            "Processing triggers for man-db (2.8.3-2ubuntu0.1) ...\n",
            "Processing triggers for libc-bin (2.27-3ubuntu1.2) ...\n",
            "/sbin/ldconfig.real: /usr/local/lib/python3.6/dist-packages/ideep4py/lib/libmkldnn.so.0 is not a symbolic link\n",
            "\n"
          ],
          "name": "stdout"
        }
      ]
    },
    {
      "cell_type": "code",
      "metadata": {
        "id": "UcceQMJ-BKM3",
        "colab": {
          "base_uri": "https://localhost:8080/"
        },
        "outputId": "5e052ee7-169b-4e32-9db9-992cd98e6911"
      },
      "source": [
        "!ls extracted-data"
      ],
      "execution_count": 6,
      "outputs": [
        {
          "output_type": "stream",
          "text": [
            "label_num_to_disease_map.json  test_images     train.csv     train_tfrecords\n",
            "sample_submission.csv\t       test_tfrecords  train_images\n"
          ],
          "name": "stdout"
        }
      ]
    },
    {
      "cell_type": "markdown",
      "metadata": {
        "id": "v3fs_kldDXTF"
      },
      "source": [
        "data has been extracted in the folder \"extracted-data\""
      ]
    },
    {
      "cell_type": "code",
      "metadata": {
        "id": "zST4EyhINOuK",
        "colab": {
          "base_uri": "https://localhost:8080/"
        },
        "outputId": "5004912e-caf9-4787-8848-9e0075f49ad9"
      },
      "source": [
        "os.listdir(\"extracted-data\")"
      ],
      "execution_count": 7,
      "outputs": [
        {
          "output_type": "execute_result",
          "data": {
            "text/plain": [
              "['label_num_to_disease_map.json',\n",
              " 'sample_submission.csv',\n",
              " 'test_images',\n",
              " 'test_tfrecords',\n",
              " 'train.csv',\n",
              " 'train_images',\n",
              " 'train_tfrecords']"
            ]
          },
          "metadata": {
            "tags": []
          },
          "execution_count": 7
        }
      ]
    },
    {
      "cell_type": "markdown",
      "metadata": {
        "id": "f980Kw4DKdd6"
      },
      "source": [
        "### data cleaning\n",
        "The train data inside 'extracted-data/train_images' are scattered. They are not organized in specific folders for each different classes. Although, the label for each specific images can be obtained by refering to the table in **'extracted-data/train.csv'**. **To do:** we need to separate each images according to their class"
      ]
    },
    {
      "cell_type": "code",
      "metadata": {
        "id": "tpmdFQXxMNEr",
        "colab": {
          "base_uri": "https://localhost:8080/"
        },
        "outputId": "22fd3314-d15b-4b23-caf5-c157453422b6"
      },
      "source": [
        "# reading the train.csv as reference label\n",
        "import pandas as pd\n",
        "import json\n",
        "\n",
        "BASE_DIR = \"extracted-data\"\n",
        "\n",
        "# read disease classes name in json file\n",
        "with open(os.path.join(BASE_DIR, \"label_num_to_disease_map.json\")) as file:\n",
        "    map_classes = json.loads(file.read())\n",
        "print(json.dumps(map_classes, indent=4))\n",
        "\n",
        "# implement classesname in train_csv\n",
        "train_csv = pd.read_csv(os.path.join(BASE_DIR, \"train.csv\"))\n",
        "train_csv[\"class_name\"] = train_csv[\"label\"].astype(str).map(map_classes)"
      ],
      "execution_count": 8,
      "outputs": [
        {
          "output_type": "stream",
          "text": [
            "{\n",
            "    \"0\": \"Cassava Bacterial Blight (CBB)\",\n",
            "    \"1\": \"Cassava Brown Streak Disease (CBSD)\",\n",
            "    \"2\": \"Cassava Green Mottle (CGM)\",\n",
            "    \"3\": \"Cassava Mosaic Disease (CMD)\",\n",
            "    \"4\": \"Healthy\"\n",
            "}\n"
          ],
          "name": "stdout"
        }
      ]
    },
    {
      "cell_type": "code",
      "metadata": {
        "id": "NoY1ToJ3OCmu",
        "colab": {
          "base_uri": "https://localhost:8080/",
          "height": 419
        },
        "outputId": "8d27bd30-2cfa-418a-96ee-5a26fafc406d"
      },
      "source": [
        "train_csv"
      ],
      "execution_count": 9,
      "outputs": [
        {
          "output_type": "execute_result",
          "data": {
            "text/html": [
              "<div>\n",
              "<style scoped>\n",
              "    .dataframe tbody tr th:only-of-type {\n",
              "        vertical-align: middle;\n",
              "    }\n",
              "\n",
              "    .dataframe tbody tr th {\n",
              "        vertical-align: top;\n",
              "    }\n",
              "\n",
              "    .dataframe thead th {\n",
              "        text-align: right;\n",
              "    }\n",
              "</style>\n",
              "<table border=\"1\" class=\"dataframe\">\n",
              "  <thead>\n",
              "    <tr style=\"text-align: right;\">\n",
              "      <th></th>\n",
              "      <th>image_id</th>\n",
              "      <th>label</th>\n",
              "      <th>class_name</th>\n",
              "    </tr>\n",
              "  </thead>\n",
              "  <tbody>\n",
              "    <tr>\n",
              "      <th>0</th>\n",
              "      <td>1000015157.jpg</td>\n",
              "      <td>0</td>\n",
              "      <td>Cassava Bacterial Blight (CBB)</td>\n",
              "    </tr>\n",
              "    <tr>\n",
              "      <th>1</th>\n",
              "      <td>1000201771.jpg</td>\n",
              "      <td>3</td>\n",
              "      <td>Cassava Mosaic Disease (CMD)</td>\n",
              "    </tr>\n",
              "    <tr>\n",
              "      <th>2</th>\n",
              "      <td>100042118.jpg</td>\n",
              "      <td>1</td>\n",
              "      <td>Cassava Brown Streak Disease (CBSD)</td>\n",
              "    </tr>\n",
              "    <tr>\n",
              "      <th>3</th>\n",
              "      <td>1000723321.jpg</td>\n",
              "      <td>1</td>\n",
              "      <td>Cassava Brown Streak Disease (CBSD)</td>\n",
              "    </tr>\n",
              "    <tr>\n",
              "      <th>4</th>\n",
              "      <td>1000812911.jpg</td>\n",
              "      <td>3</td>\n",
              "      <td>Cassava Mosaic Disease (CMD)</td>\n",
              "    </tr>\n",
              "    <tr>\n",
              "      <th>...</th>\n",
              "      <td>...</td>\n",
              "      <td>...</td>\n",
              "      <td>...</td>\n",
              "    </tr>\n",
              "    <tr>\n",
              "      <th>21392</th>\n",
              "      <td>999068805.jpg</td>\n",
              "      <td>3</td>\n",
              "      <td>Cassava Mosaic Disease (CMD)</td>\n",
              "    </tr>\n",
              "    <tr>\n",
              "      <th>21393</th>\n",
              "      <td>999329392.jpg</td>\n",
              "      <td>3</td>\n",
              "      <td>Cassava Mosaic Disease (CMD)</td>\n",
              "    </tr>\n",
              "    <tr>\n",
              "      <th>21394</th>\n",
              "      <td>999474432.jpg</td>\n",
              "      <td>1</td>\n",
              "      <td>Cassava Brown Streak Disease (CBSD)</td>\n",
              "    </tr>\n",
              "    <tr>\n",
              "      <th>21395</th>\n",
              "      <td>999616605.jpg</td>\n",
              "      <td>4</td>\n",
              "      <td>Healthy</td>\n",
              "    </tr>\n",
              "    <tr>\n",
              "      <th>21396</th>\n",
              "      <td>999998473.jpg</td>\n",
              "      <td>4</td>\n",
              "      <td>Healthy</td>\n",
              "    </tr>\n",
              "  </tbody>\n",
              "</table>\n",
              "<p>21397 rows × 3 columns</p>\n",
              "</div>"
            ],
            "text/plain": [
              "             image_id  label                           class_name\n",
              "0      1000015157.jpg      0       Cassava Bacterial Blight (CBB)\n",
              "1      1000201771.jpg      3         Cassava Mosaic Disease (CMD)\n",
              "2       100042118.jpg      1  Cassava Brown Streak Disease (CBSD)\n",
              "3      1000723321.jpg      1  Cassava Brown Streak Disease (CBSD)\n",
              "4      1000812911.jpg      3         Cassava Mosaic Disease (CMD)\n",
              "...               ...    ...                                  ...\n",
              "21392   999068805.jpg      3         Cassava Mosaic Disease (CMD)\n",
              "21393   999329392.jpg      3         Cassava Mosaic Disease (CMD)\n",
              "21394   999474432.jpg      1  Cassava Brown Streak Disease (CBSD)\n",
              "21395   999616605.jpg      4                              Healthy\n",
              "21396   999998473.jpg      4                              Healthy\n",
              "\n",
              "[21397 rows x 3 columns]"
            ]
          },
          "metadata": {
            "tags": []
          },
          "execution_count": 9
        }
      ]
    },
    {
      "cell_type": "code",
      "metadata": {
        "id": "Fn7nS9zqPT16"
      },
      "source": [
        "# extract image_id and label_id to list\n",
        "image_id = train_csv[\"image_id\"].tolist()\n",
        "label_id = train_csv[\"label\"].tolist()"
      ],
      "execution_count": 10,
      "outputs": []
    },
    {
      "cell_type": "code",
      "metadata": {
        "id": "XzS3h0EoRgq1"
      },
      "source": [
        "# Create directory for specific class\n",
        "# allert! run this code once (bellow are LINUX command line to run on google server)\n",
        "!mkdir extracted-data/train_images/CBB\n",
        "!mkdir extracted-data/train_images/CBSD\n",
        "!mkdir extracted-data/train_images/CGM\n",
        "!mkdir extracted-data/train_images/CMD\n",
        "!mkdir extracted-data/train_images/Healthy"
      ],
      "execution_count": 11,
      "outputs": []
    },
    {
      "cell_type": "code",
      "metadata": {
        "id": "560djZY6XGMZ"
      },
      "source": [
        "# check if the folders were created in 'extracted-data/train_images' directory\n",
        "!ls extracted-data/train_images"
      ],
      "execution_count": null,
      "outputs": []
    },
    {
      "cell_type": "code",
      "metadata": {
        "id": "XaW0-7NkSHye"
      },
      "source": [
        "# Iterate to move the unorganized images in train_images directory to specific class folders\n",
        "import shutil\n",
        "\n",
        "# create folders for specific classes\n",
        "TRAIN_DIR = os.path.join(BASE_DIR,\"train_images\")\n",
        "TRAIN_DIR_CBB = os.path.join(TRAIN_DIR,\"CBB\")\n",
        "TRAIN_DIR_CBSD = os.path.join(TRAIN_DIR,\"CBSD\")\n",
        "TRAIN_DIR_CGM = os.path.join(TRAIN_DIR,\"CGM\")\n",
        "TRAIN_DIR_CMD = os.path.join(TRAIN_DIR,\"CMD\")\n",
        "TRAIN_DIR_Healthy = os.path.join(TRAIN_DIR,\"Healthy\")\n",
        "\n",
        "# move the images file to specific folder by IF CONDITION\n",
        "for ImageFileName,ImageLabel in zip(image_id,label_id):\n",
        "  if ImageLabel == 0:\n",
        "    shutil.move(os.path.join(TRAIN_DIR,ImageFileName), os.path.join(TRAIN_DIR_CBB,ImageFileName))\n",
        "  if ImageLabel == 1:\n",
        "    shutil.move(os.path.join(TRAIN_DIR,ImageFileName), os.path.join(TRAIN_DIR_CBSD,ImageFileName))\n",
        "  if ImageLabel == 2:\n",
        "    shutil.move(os.path.join(TRAIN_DIR,ImageFileName), os.path.join(TRAIN_DIR_CGM,ImageFileName))\n",
        "  if ImageLabel == 3:\n",
        "    shutil.move(os.path.join(TRAIN_DIR,ImageFileName), os.path.join(TRAIN_DIR_CMD,ImageFileName))\n",
        "  if ImageLabel == 4:\n",
        "    shutil.move(os.path.join(TRAIN_DIR,ImageFileName), os.path.join(TRAIN_DIR_Healthy,ImageFileName))"
      ],
      "execution_count": 13,
      "outputs": []
    },
    {
      "cell_type": "code",
      "metadata": {
        "id": "tRIfCQpxU1AO",
        "colab": {
          "base_uri": "https://localhost:8080/"
        },
        "outputId": "1b2cca70-0cac-4188-9153-73308642b954"
      },
      "source": [
        "# check if the 'extracted-data/train_images' only contain CLASSES FOLDER\n",
        "!ls extracted-data/train_images"
      ],
      "execution_count": 14,
      "outputs": [
        {
          "output_type": "stream",
          "text": [
            "CBB  CBSD  CGM\tCMD  Healthy\n"
          ],
          "name": "stdout"
        }
      ]
    },
    {
      "cell_type": "markdown",
      "metadata": {
        "id": "potiTk4zhsTx"
      },
      "source": [
        "after separate each images according to their class, the next step is to separate data training and data validation randomly using the scikit-learn"
      ]
    },
    {
      "cell_type": "code",
      "metadata": {
        "id": "9x95Mcmm1CHE"
      },
      "source": [
        "TRAIN_CBB = os.path.join(TRAIN_DIR_CBB,\"train\")\n",
        "VAL_CBB = os.path.join(TRAIN_DIR_CBB,\"val\")\n",
        "TRAIN_CBSD = os.path.join(TRAIN_DIR_CBSD,\"train\")\n",
        "VAL_CBSD = os.path.join(TRAIN_DIR_CBSD,\"val\")\n",
        "TRAIN_CGM = os.path.join(TRAIN_DIR_CGM,\"train\")\n",
        "VAL_CGM = os.path.join(TRAIN_DIR_CGM,\"val\")\n",
        "TRAIN_CMD = os.path.join(TRAIN_DIR_CMD,\"train\")\n",
        "VAL_CMD = os.path.join(TRAIN_DIR_CMD,\"val\")\n",
        "TRAIN_Healthy = os.path.join(TRAIN_DIR_Healthy,\"train\")\n",
        "VAL_Healthy = os.path.join(TRAIN_DIR_Healthy,\"val\")"
      ],
      "execution_count": 15,
      "outputs": []
    },
    {
      "cell_type": "code",
      "metadata": {
        "id": "fK5KpmoI1Eu5"
      },
      "source": [
        "from sklearn.model_selection import train_test_split\n",
        "\n",
        "train_data_CBB, val_data_CBB = train_test_split(os.listdir(TRAIN_DIR_CBB), train_size = 0.8)\n",
        "train_data_CBSD, val_data_CBSD = train_test_split(os.listdir(TRAIN_DIR_CBSD), train_size = 0.8)\n",
        "train_data_CGM, val_data_CGM = train_test_split(os.listdir(TRAIN_DIR_CGM), train_size = 0.8)\n",
        "train_data_CMD, val_data_CMD = train_test_split(os.listdir(TRAIN_DIR_CMD), train_size = 0.8)\n",
        "train_data_Healthy, val_data_Healthy = train_test_split(os.listdir(TRAIN_DIR_Healthy), train_size = 0.8)"
      ],
      "execution_count": 16,
      "outputs": []
    },
    {
      "cell_type": "code",
      "metadata": {
        "id": "HeYwZXTf1gTB"
      },
      "source": [
        "if not os.path.exists(TRAIN_CBB):\n",
        "  os.mkdir(TRAIN_CBB)\n",
        "if not os.path.exists(VAL_CBB):\n",
        "  os.mkdir(VAL_CBB)\n",
        "\n",
        "if not os.path.exists(TRAIN_CBSD):\n",
        "  os.mkdir(TRAIN_CBSD)\n",
        "if not os.path.exists(VAL_CBSD):\n",
        "  os.mkdir(VAL_CBSD)\n",
        "\n",
        "if not os.path.exists(TRAIN_CGM):\n",
        "  os.mkdir(TRAIN_CGM)\n",
        "if not os.path.exists(VAL_CGM):\n",
        "  os.mkdir(VAL_CGM)\n",
        "\n",
        "if not os.path.exists(TRAIN_CMD):\n",
        "  os.mkdir(TRAIN_CMD)\n",
        "if not os.path.exists(VAL_CMD):\n",
        "  os.mkdir(VAL_CMD)\n",
        "\n",
        "if not os.path.exists(TRAIN_Healthy):\n",
        "  os.mkdir(TRAIN_Healthy)\n",
        "if not os.path.exists(VAL_Healthy):\n",
        "  os.mkdir(VAL_Healthy)"
      ],
      "execution_count": 17,
      "outputs": []
    },
    {
      "cell_type": "code",
      "metadata": {
        "id": "BXp0g_oy1i-A"
      },
      "source": [
        "for i in train_data_CBB:\n",
        "  shutil.move(os.path.join(TRAIN_DIR_CBB, i), os.path.join(TRAIN_CBB, i))\n",
        "for i in val_data_CBB:\n",
        "  shutil.move(os.path.join(TRAIN_DIR_CBB, i), os.path.join(VAL_CBB, i))\n",
        "\n",
        "for i in train_data_CBSD:\n",
        "  shutil.move(os.path.join(TRAIN_DIR_CBSD, i), os.path.join(TRAIN_CBSD, i))\n",
        "for i in val_data_CBSD:\n",
        "  shutil.move(os.path.join(TRAIN_DIR_CBSD, i), os.path.join(VAL_CBSD, i))\n",
        "\n",
        "for i in train_data_CGM:\n",
        "  shutil.move(os.path.join(TRAIN_DIR_CGM, i), os.path.join(TRAIN_CGM, i))\n",
        "for i in val_data_CGM:\n",
        "  shutil.move(os.path.join(TRAIN_DIR_CGM, i), os.path.join(VAL_CGM, i))\n",
        "\n",
        "for i in train_data_CMD:\n",
        "  shutil.move(os.path.join(TRAIN_DIR_CMD, i), os.path.join(TRAIN_CMD, i))\n",
        "for i in val_data_CMD:\n",
        "  shutil.move(os.path.join(TRAIN_DIR_CMD, i), os.path.join(VAL_CMD, i))\n",
        "\n",
        "for i in train_data_Healthy:\n",
        "  shutil.move(os.path.join(TRAIN_DIR_Healthy, i), os.path.join(TRAIN_Healthy, i))\n",
        "for i in val_data_Healthy:\n",
        "  shutil.move(os.path.join(TRAIN_DIR_Healthy, i), os.path.join(VAL_Healthy, i))"
      ],
      "execution_count": 18,
      "outputs": []
    },
    {
      "cell_type": "code",
      "metadata": {
        "id": "u9YDohmGJFn1"
      },
      "source": [
        "!mkdir data_train\n",
        "!mkdir data_val"
      ],
      "execution_count": 19,
      "outputs": []
    },
    {
      "cell_type": "markdown",
      "metadata": {
        "id": "gWbQj7vAk8zH"
      },
      "source": [
        "Combine training data and validation data in the same directory for the modeling preparation"
      ]
    },
    {
      "cell_type": "code",
      "metadata": {
        "id": "xSOkFbfMJK9o"
      },
      "source": [
        "#copy data cbb to new directory\n",
        "train_cbb_copy = '/content/extracted-data/train_images/CBB/train'\n",
        "train_cbb_paste = '/content/data_train/cbb'\n",
        "val_cbb_copy = '/content/extracted-data/train_images/CBB/val'\n",
        "val_cbb_paste = '/content/data_val/cbb'"
      ],
      "execution_count": 20,
      "outputs": []
    },
    {
      "cell_type": "code",
      "metadata": {
        "colab": {
          "base_uri": "https://localhost:8080/",
          "height": 35
        },
        "id": "xOQtrrP2Lx2v",
        "outputId": "aa410459-91bf-4281-ec17-aca4a212a0fd"
      },
      "source": [
        "shutil.copytree(train_cbb_copy,train_cbb_paste, copy_function= shutil.copy)\n",
        "shutil.copytree(val_cbb_copy,val_cbb_paste, copy_function= shutil.copy)"
      ],
      "execution_count": 24,
      "outputs": [
        {
          "output_type": "execute_result",
          "data": {
            "application/vnd.google.colaboratory.intrinsic+json": {
              "type": "string"
            },
            "text/plain": [
              "'/content/data_val/cbb'"
            ]
          },
          "metadata": {
            "tags": []
          },
          "execution_count": 24
        }
      ]
    },
    {
      "cell_type": "code",
      "metadata": {
        "id": "Wt9gtxm9LcyZ"
      },
      "source": [
        "#copy data cbsd to new directory\n",
        "train_cbsd_copy = '/content/extracted-data/train_images/CBSD/train'\n",
        "train_cbsd_paste = '/content/data_train/cbsd'\n",
        "val_cbsd_copy = '/content/extracted-data/train_images/CBSD/val'\n",
        "val_cbsd_paste = '/content/data_val/cbsd'"
      ],
      "execution_count": 25,
      "outputs": []
    },
    {
      "cell_type": "code",
      "metadata": {
        "colab": {
          "base_uri": "https://localhost:8080/",
          "height": 35
        },
        "id": "UO0JzI4gJzE4",
        "outputId": "b358651e-90cd-4ee4-a0e6-cc5394dde844"
      },
      "source": [
        "#copying directory using shutil\n",
        "shutil.copytree(train_cbsd_copy,train_cbsd_paste, copy_function= shutil.copy)\n",
        "shutil.copytree(val_cbsd_copy,val_cbsd_paste, copy_function= shutil.copy)"
      ],
      "execution_count": 26,
      "outputs": [
        {
          "output_type": "execute_result",
          "data": {
            "application/vnd.google.colaboratory.intrinsic+json": {
              "type": "string"
            },
            "text/plain": [
              "'/content/data_val/cbsd'"
            ]
          },
          "metadata": {
            "tags": []
          },
          "execution_count": 26
        }
      ]
    },
    {
      "cell_type": "code",
      "metadata": {
        "id": "muY-PfZPMAb8"
      },
      "source": [
        "train_cgm_copy = '/content/extracted-data/train_images/CGM/train'\n",
        "train_cgm_paste = '/content/data_train/cgm'\n",
        "val_cgm_copy = '/content/extracted-data/train_images/CGM/val'\n",
        "val_cgm_paste = '/content/data_val/cgm'"
      ],
      "execution_count": 27,
      "outputs": []
    },
    {
      "cell_type": "code",
      "metadata": {
        "colab": {
          "base_uri": "https://localhost:8080/",
          "height": 35
        },
        "id": "8edHvHZLNl_X",
        "outputId": "1f728ba8-cae7-471e-fa7c-5a0c87314713"
      },
      "source": [
        "#copying directory using shutil\n",
        "shutil.copytree(train_cgm_copy,train_cgm_paste, copy_function= shutil.copy)\n",
        "shutil.copytree(val_cgm_copy,val_cgm_paste, copy_function= shutil.copy)"
      ],
      "execution_count": 28,
      "outputs": [
        {
          "output_type": "execute_result",
          "data": {
            "application/vnd.google.colaboratory.intrinsic+json": {
              "type": "string"
            },
            "text/plain": [
              "'/content/data_val/cgm'"
            ]
          },
          "metadata": {
            "tags": []
          },
          "execution_count": 28
        }
      ]
    },
    {
      "cell_type": "code",
      "metadata": {
        "id": "_vCJKNGTOBUf"
      },
      "source": [
        "train_cmd_copy = '/content/extracted-data/train_images/CMD/train'\n",
        "train_cmd_paste = '/content/data_train/cmd'\n",
        "val_cmd_copy = '/content/extracted-data/train_images/CMD/val'\n",
        "val_cmd_paste = '/content/data_val/cmd'"
      ],
      "execution_count": 29,
      "outputs": []
    },
    {
      "cell_type": "code",
      "metadata": {
        "colab": {
          "base_uri": "https://localhost:8080/",
          "height": 35
        },
        "id": "Jza1V7vxOgEu",
        "outputId": "fbc8bb28-56b3-4854-ec2a-c907eddf0a9a"
      },
      "source": [
        "#copying directory using shutil\n",
        "shutil.copytree(train_cmd_copy,train_cmd_paste, copy_function= shutil.copy)\n",
        "shutil.copytree(val_cmd_copy,val_cmd_paste, copy_function= shutil.copy)"
      ],
      "execution_count": 30,
      "outputs": [
        {
          "output_type": "execute_result",
          "data": {
            "application/vnd.google.colaboratory.intrinsic+json": {
              "type": "string"
            },
            "text/plain": [
              "'/content/data_val/cmd'"
            ]
          },
          "metadata": {
            "tags": []
          },
          "execution_count": 30
        }
      ]
    },
    {
      "cell_type": "code",
      "metadata": {
        "id": "XRUPfxzLOnW8"
      },
      "source": [
        "train_healthy_copy = '/content/extracted-data/train_images/Healthy/train'\n",
        "train_healthy_paste = '/content/data_train/healthy'\n",
        "val_healthy_copy = '/content/extracted-data/train_images/Healthy/val'\n",
        "val_healthy_paste = '/content/data_val/healthy'"
      ],
      "execution_count": 31,
      "outputs": []
    },
    {
      "cell_type": "code",
      "metadata": {
        "colab": {
          "base_uri": "https://localhost:8080/",
          "height": 35
        },
        "id": "5m22VW-hPBve",
        "outputId": "c40ee746-66d4-4133-d853-d61a2bd87934"
      },
      "source": [
        "#copying directory using shutil\n",
        "shutil.copytree(train_healthy_copy,train_healthy_paste, copy_function= shutil.copy)\n",
        "shutil.copytree(val_healthy_copy,val_healthy_paste, copy_function= shutil.copy)"
      ],
      "execution_count": 32,
      "outputs": [
        {
          "output_type": "execute_result",
          "data": {
            "application/vnd.google.colaboratory.intrinsic+json": {
              "type": "string"
            },
            "text/plain": [
              "'/content/data_val/healthy'"
            ]
          },
          "metadata": {
            "tags": []
          },
          "execution_count": 32
        }
      ]
    },
    {
      "cell_type": "code",
      "metadata": {
        "id": "TqnN1QQhPWz3"
      },
      "source": [
        "# import tensorflow as tf\n",
        "# from tensorflow.keras.optimizers import RMSprop\n",
        "# from tensorflow.keras.preprocessing.image import ImageDataGenerator"
      ],
      "execution_count": 33,
      "outputs": []
    },
    {
      "cell_type": "code",
      "metadata": {
        "id": "bqiJLkLjPiC2"
      },
      "source": [
        "# train_datagen = ImageDataGenerator(\n",
        "#                     rescale=1./255,\n",
        "#                     rotation_range=20,\n",
        "#                     horizontal_flip=True,\n",
        "#                     shear_range = 0.2,\n",
        "#                     fill_mode = 'nearest')\n",
        " \n",
        "# test_datagen = ImageDataGenerator(\n",
        "#                     rescale=1./255,\n",
        "#                     rotation_range=20,\n",
        "#                     horizontal_flip=True,\n",
        "#                     shear_range = 0.2,\n",
        "#                     fill_mode = 'nearest')"
      ],
      "execution_count": 34,
      "outputs": []
    },
    {
      "cell_type": "code",
      "metadata": {
        "id": "tbXk-zCzPje0"
      },
      "source": [
        "# train_generator = train_datagen.flow_from_directory(\n",
        "#     '/content/data_train',\n",
        "#     target_size =(150,150),\n",
        "#     batch_size = 32,\n",
        "#     class_mode = 'categorical'\n",
        "# )\n",
        "\n",
        "# validation_generator = test_datagen.flow_from_directory(\n",
        "#     '/content/data_val',\n",
        "#     target_size = (150,150),\n",
        "#     batch_size = 32,\n",
        "#     class_mode = 'categorical'\n",
        "# )"
      ],
      "execution_count": null,
      "outputs": []
    },
    {
      "cell_type": "code",
      "metadata": {
        "id": "reQ2WT44P8PN"
      },
      "source": [
        "# membuat model \n",
        "# model = tf.keras.models.Sequential([\n",
        "#   tf.keras.layers.Conv2D(32, (5,5), activation = 'relu', input_shape= (150,150,5)),\n",
        "#   tf.keras.layers.MaxPooling2D(2,2),\n",
        "#   tf.keras.layers.Conv2D(64,(5,5), activation= 'relu'),\n",
        "#   tf.keras.layers.MaxPooling2D(2,2),\n",
        "#   tf.keras.layers.Conv2D(128,(5,5), activation= 'relu'),\n",
        "#   tf.keras.layers.MaxPooling2D(2,2),\n",
        "#   tf.keras.layers.Conv2D(256,(5,5), activation= 'relu'),\n",
        "#   tf.keras.layers.MaxPooling2D(2,2),\n",
        "#   tf.keras.layers.Flatten(),\n",
        "#   tf.keras.layers.Dense(512, activation= 'relu'),\n",
        "#   tf.keras.layers.Dense(5, activation= 'softmax')\n",
        "# ])"
      ],
      "execution_count": 41,
      "outputs": []
    },
    {
      "cell_type": "code",
      "metadata": {
        "id": "3KKxz2jpQQaw"
      },
      "source": [
        "# model.compile(loss = 'categorical_crossentropy',\n",
        "#               optimizer = tf.optimizers.Adam(),\n",
        "#               metrics=['accuracy'])"
      ],
      "execution_count": 43,
      "outputs": []
    },
    {
      "cell_type": "code",
      "metadata": {
        "colab": {
          "base_uri": "https://localhost:8080/",
          "height": 493
        },
        "id": "C44uNqC2QWcs",
        "outputId": "d7fc7fb9-6c4a-4f0a-b22f-12338f873eb1"
      },
      "source": [
        "# from datetime import datetime\n",
        "# start_time = datetime.now()\n",
        "\n",
        "\n",
        "# history = model.fit(\n",
        "#     train_generator,\n",
        "#     steps_per_epoch = 25,\n",
        "#     epochs = 20,\n",
        "#     validation_data = validation_generator,\n",
        "#     validation_steps = 5,\n",
        "#     verbose =2\n",
        "# )\n",
        "\n",
        "\n",
        "# end_time = datetime.now()\n",
        "# print('Duration: {}'.format(end_time - start_time))"
      ],
      "execution_count": 46,
      "outputs": [
        {
          "output_type": "stream",
          "text": [
            "Epoch 1/20\n"
          ],
          "name": "stdout"
        },
        {
          "output_type": "error",
          "ename": "InvalidArgumentError",
          "evalue": "ignored",
          "traceback": [
            "\u001b[0;31m---------------------------------------------------------------------------\u001b[0m",
            "\u001b[0;31mInvalidArgumentError\u001b[0m                      Traceback (most recent call last)",
            "\u001b[0;32m<ipython-input-46-5d4025dc2e19>\u001b[0m in \u001b[0;36m<module>\u001b[0;34m()\u001b[0m\n\u001b[1;32m      9\u001b[0m     \u001b[0mvalidation_data\u001b[0m \u001b[0;34m=\u001b[0m \u001b[0mvalidation_generator\u001b[0m\u001b[0;34m,\u001b[0m\u001b[0;34m\u001b[0m\u001b[0;34m\u001b[0m\u001b[0m\n\u001b[1;32m     10\u001b[0m     \u001b[0mvalidation_steps\u001b[0m \u001b[0;34m=\u001b[0m \u001b[0;36m5\u001b[0m\u001b[0;34m,\u001b[0m\u001b[0;34m\u001b[0m\u001b[0;34m\u001b[0m\u001b[0m\n\u001b[0;32m---> 11\u001b[0;31m     \u001b[0mverbose\u001b[0m \u001b[0;34m=\u001b[0m\u001b[0;36m2\u001b[0m\u001b[0;34m\u001b[0m\u001b[0;34m\u001b[0m\u001b[0m\n\u001b[0m\u001b[1;32m     12\u001b[0m )\n\u001b[1;32m     13\u001b[0m \u001b[0;34m\u001b[0m\u001b[0m\n",
            "\u001b[0;32m/usr/local/lib/python3.6/dist-packages/tensorflow/python/keras/engine/training.py\u001b[0m in \u001b[0;36m_method_wrapper\u001b[0;34m(self, *args, **kwargs)\u001b[0m\n\u001b[1;32m    106\u001b[0m   \u001b[0;32mdef\u001b[0m \u001b[0m_method_wrapper\u001b[0m\u001b[0;34m(\u001b[0m\u001b[0mself\u001b[0m\u001b[0;34m,\u001b[0m \u001b[0;34m*\u001b[0m\u001b[0margs\u001b[0m\u001b[0;34m,\u001b[0m \u001b[0;34m**\u001b[0m\u001b[0mkwargs\u001b[0m\u001b[0;34m)\u001b[0m\u001b[0;34m:\u001b[0m\u001b[0;34m\u001b[0m\u001b[0;34m\u001b[0m\u001b[0m\n\u001b[1;32m    107\u001b[0m     \u001b[0;32mif\u001b[0m \u001b[0;32mnot\u001b[0m \u001b[0mself\u001b[0m\u001b[0;34m.\u001b[0m\u001b[0m_in_multi_worker_mode\u001b[0m\u001b[0;34m(\u001b[0m\u001b[0;34m)\u001b[0m\u001b[0;34m:\u001b[0m  \u001b[0;31m# pylint: disable=protected-access\u001b[0m\u001b[0;34m\u001b[0m\u001b[0;34m\u001b[0m\u001b[0m\n\u001b[0;32m--> 108\u001b[0;31m       \u001b[0;32mreturn\u001b[0m \u001b[0mmethod\u001b[0m\u001b[0;34m(\u001b[0m\u001b[0mself\u001b[0m\u001b[0;34m,\u001b[0m \u001b[0;34m*\u001b[0m\u001b[0margs\u001b[0m\u001b[0;34m,\u001b[0m \u001b[0;34m**\u001b[0m\u001b[0mkwargs\u001b[0m\u001b[0;34m)\u001b[0m\u001b[0;34m\u001b[0m\u001b[0;34m\u001b[0m\u001b[0m\n\u001b[0m\u001b[1;32m    109\u001b[0m \u001b[0;34m\u001b[0m\u001b[0m\n\u001b[1;32m    110\u001b[0m     \u001b[0;31m# Running inside `run_distribute_coordinator` already.\u001b[0m\u001b[0;34m\u001b[0m\u001b[0;34m\u001b[0m\u001b[0;34m\u001b[0m\u001b[0m\n",
            "\u001b[0;32m/usr/local/lib/python3.6/dist-packages/tensorflow/python/keras/engine/training.py\u001b[0m in \u001b[0;36mfit\u001b[0;34m(self, x, y, batch_size, epochs, verbose, callbacks, validation_split, validation_data, shuffle, class_weight, sample_weight, initial_epoch, steps_per_epoch, validation_steps, validation_batch_size, validation_freq, max_queue_size, workers, use_multiprocessing)\u001b[0m\n\u001b[1;32m   1096\u001b[0m                 batch_size=batch_size):\n\u001b[1;32m   1097\u001b[0m               \u001b[0mcallbacks\u001b[0m\u001b[0;34m.\u001b[0m\u001b[0mon_train_batch_begin\u001b[0m\u001b[0;34m(\u001b[0m\u001b[0mstep\u001b[0m\u001b[0;34m)\u001b[0m\u001b[0;34m\u001b[0m\u001b[0;34m\u001b[0m\u001b[0m\n\u001b[0;32m-> 1098\u001b[0;31m               \u001b[0mtmp_logs\u001b[0m \u001b[0;34m=\u001b[0m \u001b[0mtrain_function\u001b[0m\u001b[0;34m(\u001b[0m\u001b[0miterator\u001b[0m\u001b[0;34m)\u001b[0m\u001b[0;34m\u001b[0m\u001b[0;34m\u001b[0m\u001b[0m\n\u001b[0m\u001b[1;32m   1099\u001b[0m               \u001b[0;32mif\u001b[0m \u001b[0mdata_handler\u001b[0m\u001b[0;34m.\u001b[0m\u001b[0mshould_sync\u001b[0m\u001b[0;34m:\u001b[0m\u001b[0;34m\u001b[0m\u001b[0;34m\u001b[0m\u001b[0m\n\u001b[1;32m   1100\u001b[0m                 \u001b[0mcontext\u001b[0m\u001b[0;34m.\u001b[0m\u001b[0masync_wait\u001b[0m\u001b[0;34m(\u001b[0m\u001b[0;34m)\u001b[0m\u001b[0;34m\u001b[0m\u001b[0;34m\u001b[0m\u001b[0m\n",
            "\u001b[0;32m/usr/local/lib/python3.6/dist-packages/tensorflow/python/eager/def_function.py\u001b[0m in \u001b[0;36m__call__\u001b[0;34m(self, *args, **kwds)\u001b[0m\n\u001b[1;32m    778\u001b[0m       \u001b[0;32melse\u001b[0m\u001b[0;34m:\u001b[0m\u001b[0;34m\u001b[0m\u001b[0;34m\u001b[0m\u001b[0m\n\u001b[1;32m    779\u001b[0m         \u001b[0mcompiler\u001b[0m \u001b[0;34m=\u001b[0m \u001b[0;34m\"nonXla\"\u001b[0m\u001b[0;34m\u001b[0m\u001b[0;34m\u001b[0m\u001b[0m\n\u001b[0;32m--> 780\u001b[0;31m         \u001b[0mresult\u001b[0m \u001b[0;34m=\u001b[0m \u001b[0mself\u001b[0m\u001b[0;34m.\u001b[0m\u001b[0m_call\u001b[0m\u001b[0;34m(\u001b[0m\u001b[0;34m*\u001b[0m\u001b[0margs\u001b[0m\u001b[0;34m,\u001b[0m \u001b[0;34m**\u001b[0m\u001b[0mkwds\u001b[0m\u001b[0;34m)\u001b[0m\u001b[0;34m\u001b[0m\u001b[0;34m\u001b[0m\u001b[0m\n\u001b[0m\u001b[1;32m    781\u001b[0m \u001b[0;34m\u001b[0m\u001b[0m\n\u001b[1;32m    782\u001b[0m       \u001b[0mnew_tracing_count\u001b[0m \u001b[0;34m=\u001b[0m \u001b[0mself\u001b[0m\u001b[0;34m.\u001b[0m\u001b[0m_get_tracing_count\u001b[0m\u001b[0;34m(\u001b[0m\u001b[0;34m)\u001b[0m\u001b[0;34m\u001b[0m\u001b[0;34m\u001b[0m\u001b[0m\n",
            "\u001b[0;32m/usr/local/lib/python3.6/dist-packages/tensorflow/python/eager/def_function.py\u001b[0m in \u001b[0;36m_call\u001b[0;34m(self, *args, **kwds)\u001b[0m\n\u001b[1;32m    805\u001b[0m       \u001b[0;31m# In this case we have created variables on the first call, so we run the\u001b[0m\u001b[0;34m\u001b[0m\u001b[0;34m\u001b[0m\u001b[0;34m\u001b[0m\u001b[0m\n\u001b[1;32m    806\u001b[0m       \u001b[0;31m# defunned version which is guaranteed to never create variables.\u001b[0m\u001b[0;34m\u001b[0m\u001b[0;34m\u001b[0m\u001b[0;34m\u001b[0m\u001b[0m\n\u001b[0;32m--> 807\u001b[0;31m       \u001b[0;32mreturn\u001b[0m \u001b[0mself\u001b[0m\u001b[0;34m.\u001b[0m\u001b[0m_stateless_fn\u001b[0m\u001b[0;34m(\u001b[0m\u001b[0;34m*\u001b[0m\u001b[0margs\u001b[0m\u001b[0;34m,\u001b[0m \u001b[0;34m**\u001b[0m\u001b[0mkwds\u001b[0m\u001b[0;34m)\u001b[0m  \u001b[0;31m# pylint: disable=not-callable\u001b[0m\u001b[0;34m\u001b[0m\u001b[0;34m\u001b[0m\u001b[0m\n\u001b[0m\u001b[1;32m    808\u001b[0m     \u001b[0;32melif\u001b[0m \u001b[0mself\u001b[0m\u001b[0;34m.\u001b[0m\u001b[0m_stateful_fn\u001b[0m \u001b[0;32mis\u001b[0m \u001b[0;32mnot\u001b[0m \u001b[0;32mNone\u001b[0m\u001b[0;34m:\u001b[0m\u001b[0;34m\u001b[0m\u001b[0;34m\u001b[0m\u001b[0m\n\u001b[1;32m    809\u001b[0m       \u001b[0;31m# Release the lock early so that multiple threads can perform the call\u001b[0m\u001b[0;34m\u001b[0m\u001b[0;34m\u001b[0m\u001b[0;34m\u001b[0m\u001b[0m\n",
            "\u001b[0;32m/usr/local/lib/python3.6/dist-packages/tensorflow/python/eager/function.py\u001b[0m in \u001b[0;36m__call__\u001b[0;34m(self, *args, **kwargs)\u001b[0m\n\u001b[1;32m   2827\u001b[0m     \u001b[0;32mwith\u001b[0m \u001b[0mself\u001b[0m\u001b[0;34m.\u001b[0m\u001b[0m_lock\u001b[0m\u001b[0;34m:\u001b[0m\u001b[0;34m\u001b[0m\u001b[0;34m\u001b[0m\u001b[0m\n\u001b[1;32m   2828\u001b[0m       \u001b[0mgraph_function\u001b[0m\u001b[0;34m,\u001b[0m \u001b[0margs\u001b[0m\u001b[0;34m,\u001b[0m \u001b[0mkwargs\u001b[0m \u001b[0;34m=\u001b[0m \u001b[0mself\u001b[0m\u001b[0;34m.\u001b[0m\u001b[0m_maybe_define_function\u001b[0m\u001b[0;34m(\u001b[0m\u001b[0margs\u001b[0m\u001b[0;34m,\u001b[0m \u001b[0mkwargs\u001b[0m\u001b[0;34m)\u001b[0m\u001b[0;34m\u001b[0m\u001b[0;34m\u001b[0m\u001b[0m\n\u001b[0;32m-> 2829\u001b[0;31m     \u001b[0;32mreturn\u001b[0m \u001b[0mgraph_function\u001b[0m\u001b[0;34m.\u001b[0m\u001b[0m_filtered_call\u001b[0m\u001b[0;34m(\u001b[0m\u001b[0margs\u001b[0m\u001b[0;34m,\u001b[0m \u001b[0mkwargs\u001b[0m\u001b[0;34m)\u001b[0m  \u001b[0;31m# pylint: disable=protected-access\u001b[0m\u001b[0;34m\u001b[0m\u001b[0;34m\u001b[0m\u001b[0m\n\u001b[0m\u001b[1;32m   2830\u001b[0m \u001b[0;34m\u001b[0m\u001b[0m\n\u001b[1;32m   2831\u001b[0m   \u001b[0;34m@\u001b[0m\u001b[0mproperty\u001b[0m\u001b[0;34m\u001b[0m\u001b[0;34m\u001b[0m\u001b[0m\n",
            "\u001b[0;32m/usr/local/lib/python3.6/dist-packages/tensorflow/python/eager/function.py\u001b[0m in \u001b[0;36m_filtered_call\u001b[0;34m(self, args, kwargs, cancellation_manager)\u001b[0m\n\u001b[1;32m   1846\u001b[0m                            resource_variable_ops.BaseResourceVariable))],\n\u001b[1;32m   1847\u001b[0m         \u001b[0mcaptured_inputs\u001b[0m\u001b[0;34m=\u001b[0m\u001b[0mself\u001b[0m\u001b[0;34m.\u001b[0m\u001b[0mcaptured_inputs\u001b[0m\u001b[0;34m,\u001b[0m\u001b[0;34m\u001b[0m\u001b[0;34m\u001b[0m\u001b[0m\n\u001b[0;32m-> 1848\u001b[0;31m         cancellation_manager=cancellation_manager)\n\u001b[0m\u001b[1;32m   1849\u001b[0m \u001b[0;34m\u001b[0m\u001b[0m\n\u001b[1;32m   1850\u001b[0m   \u001b[0;32mdef\u001b[0m \u001b[0m_call_flat\u001b[0m\u001b[0;34m(\u001b[0m\u001b[0mself\u001b[0m\u001b[0;34m,\u001b[0m \u001b[0margs\u001b[0m\u001b[0;34m,\u001b[0m \u001b[0mcaptured_inputs\u001b[0m\u001b[0;34m,\u001b[0m \u001b[0mcancellation_manager\u001b[0m\u001b[0;34m=\u001b[0m\u001b[0;32mNone\u001b[0m\u001b[0;34m)\u001b[0m\u001b[0;34m:\u001b[0m\u001b[0;34m\u001b[0m\u001b[0;34m\u001b[0m\u001b[0m\n",
            "\u001b[0;32m/usr/local/lib/python3.6/dist-packages/tensorflow/python/eager/function.py\u001b[0m in \u001b[0;36m_call_flat\u001b[0;34m(self, args, captured_inputs, cancellation_manager)\u001b[0m\n\u001b[1;32m   1922\u001b[0m       \u001b[0;31m# No tape is watching; skip to running the function.\u001b[0m\u001b[0;34m\u001b[0m\u001b[0;34m\u001b[0m\u001b[0;34m\u001b[0m\u001b[0m\n\u001b[1;32m   1923\u001b[0m       return self._build_call_outputs(self._inference_function.call(\n\u001b[0;32m-> 1924\u001b[0;31m           ctx, args, cancellation_manager=cancellation_manager))\n\u001b[0m\u001b[1;32m   1925\u001b[0m     forward_backward = self._select_forward_and_backward_functions(\n\u001b[1;32m   1926\u001b[0m         \u001b[0margs\u001b[0m\u001b[0;34m,\u001b[0m\u001b[0;34m\u001b[0m\u001b[0;34m\u001b[0m\u001b[0m\n",
            "\u001b[0;32m/usr/local/lib/python3.6/dist-packages/tensorflow/python/eager/function.py\u001b[0m in \u001b[0;36mcall\u001b[0;34m(self, ctx, args, cancellation_manager)\u001b[0m\n\u001b[1;32m    548\u001b[0m               \u001b[0minputs\u001b[0m\u001b[0;34m=\u001b[0m\u001b[0margs\u001b[0m\u001b[0;34m,\u001b[0m\u001b[0;34m\u001b[0m\u001b[0;34m\u001b[0m\u001b[0m\n\u001b[1;32m    549\u001b[0m               \u001b[0mattrs\u001b[0m\u001b[0;34m=\u001b[0m\u001b[0mattrs\u001b[0m\u001b[0;34m,\u001b[0m\u001b[0;34m\u001b[0m\u001b[0;34m\u001b[0m\u001b[0m\n\u001b[0;32m--> 550\u001b[0;31m               ctx=ctx)\n\u001b[0m\u001b[1;32m    551\u001b[0m         \u001b[0;32melse\u001b[0m\u001b[0;34m:\u001b[0m\u001b[0;34m\u001b[0m\u001b[0;34m\u001b[0m\u001b[0m\n\u001b[1;32m    552\u001b[0m           outputs = execute.execute_with_cancellation(\n",
            "\u001b[0;32m/usr/local/lib/python3.6/dist-packages/tensorflow/python/eager/execute.py\u001b[0m in \u001b[0;36mquick_execute\u001b[0;34m(op_name, num_outputs, inputs, attrs, ctx, name)\u001b[0m\n\u001b[1;32m     58\u001b[0m     \u001b[0mctx\u001b[0m\u001b[0;34m.\u001b[0m\u001b[0mensure_initialized\u001b[0m\u001b[0;34m(\u001b[0m\u001b[0;34m)\u001b[0m\u001b[0;34m\u001b[0m\u001b[0;34m\u001b[0m\u001b[0m\n\u001b[1;32m     59\u001b[0m     tensors = pywrap_tfe.TFE_Py_Execute(ctx._handle, device_name, op_name,\n\u001b[0;32m---> 60\u001b[0;31m                                         inputs, attrs, num_outputs)\n\u001b[0m\u001b[1;32m     61\u001b[0m   \u001b[0;32mexcept\u001b[0m \u001b[0mcore\u001b[0m\u001b[0;34m.\u001b[0m\u001b[0m_NotOkStatusException\u001b[0m \u001b[0;32mas\u001b[0m \u001b[0me\u001b[0m\u001b[0;34m:\u001b[0m\u001b[0;34m\u001b[0m\u001b[0;34m\u001b[0m\u001b[0m\n\u001b[1;32m     62\u001b[0m     \u001b[0;32mif\u001b[0m \u001b[0mname\u001b[0m \u001b[0;32mis\u001b[0m \u001b[0;32mnot\u001b[0m \u001b[0;32mNone\u001b[0m\u001b[0;34m:\u001b[0m\u001b[0;34m\u001b[0m\u001b[0;34m\u001b[0m\u001b[0m\n",
            "\u001b[0;31mInvalidArgumentError\u001b[0m:  input depth must be evenly divisible by filter depth: 3 vs 5\n\t [[node sequential_1/conv2d_4/Relu (defined at <ipython-input-44-5d4025dc2e19>:11) ]] [Op:__inference_train_function_3833]\n\nFunction call stack:\ntrain_function\n"
          ]
        }
      ]
    },
    {
      "cell_type": "code",
      "metadata": {
        "colab": {
          "base_uri": "https://localhost:8080/",
          "height": 407
        },
        "id": "QRKq4y-8Q4P0",
        "outputId": "86168d6a-a004-4f0f-9ff4-3ee845b25ba9"
      },
      "source": [
        "# import matplotlib.pyplot as plt\n",
        "\n",
        "# acc = history.history['accuracy']\n",
        "# val_acc = history.history['val_accuracy']\n",
        "\n",
        "# loss = history.history['loss']\n",
        "# val_loss = history.history['val_loss']\n",
        "\n",
        "# epochs_range = range(20)\n",
        "\n",
        "# plt.figure(figsize=(16, 6))\n",
        "# plt.subplot(1, 2, 1)\n",
        "# plt.plot(epochs_range, acc, label='Training Accuracy')\n",
        "# plt.plot(epochs_range, val_acc, label='Validation Accuracy')\n",
        "# plt.legend(loc='lower right')\n",
        "# plt.title('Training and Validation Accuracy')"
      ],
      "execution_count": 47,
      "outputs": [
        {
          "output_type": "execute_result",
          "data": {
            "text/plain": [
              "Text(0.5, 1.0, 'Training and Validation Accuracy')"
            ]
          },
          "metadata": {
            "tags": []
          },
          "execution_count": 47
        },
        {
          "output_type": "display_data",
          "data": {
            "image/png": "[encoded data removed]",
            "text/plain": [
              "<Figure size 1152x432 with 1 Axes>"
            ]
          },
          "metadata": {
            "tags": [],
            "needs_background": "light"
          }
        }
      ]
    },
    {
      "cell_type": "code",
      "metadata": {
        "colab": {
          "base_uri": "https://localhost:8080/"
        },
        "id": "UEtew6vAmtj1",
        "outputId": "1fccb931-b6d0-4b0e-ef03-fe78ea144905"
      },
      "source": [
        "os.listdir(os.path.join(BASE_DIR, \"test_images\"))"
      ],
      "execution_count": 48,
      "outputs": [
        {
          "output_type": "execute_result",
          "data": {
            "text/plain": [
              "['2216849948.jpg']"
            ]
          },
          "metadata": {
            "tags": []
          },
          "execution_count": 48
        }
      ]
    }
  ]
}